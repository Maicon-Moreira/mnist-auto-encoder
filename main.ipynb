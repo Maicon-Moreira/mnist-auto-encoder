{
 "metadata": {
  "language_info": {
   "codemirror_mode": {
    "name": "ipython",
    "version": 3
   },
   "file_extension": ".py",
   "mimetype": "text/x-python",
   "name": "python",
   "nbconvert_exporter": "python",
   "pygments_lexer": "ipython3",
   "version": "3.8.2-final"
  },
  "orig_nbformat": 2,
  "kernelspec": {
   "name": "python_defaultSpec_1600399734985",
   "display_name": "Python 3.8.2 64-bit"
  }
 },
 "nbformat": 4,
 "nbformat_minor": 2,
 "cells": [
  {
   "cell_type": "code",
   "execution_count": 1,
   "metadata": {},
   "outputs": [],
   "source": [
    "import numpy as np\n",
    "import csv\n",
    "import tensorflow as tf\n",
    "import matplotlib.pyplot as plt"
   ]
  },
  {
   "cell_type": "code",
   "execution_count": 2,
   "metadata": {
    "tags": []
   },
   "outputs": [],
   "source": [
    "with open('mnist_train.csv', newline='') as f:\n",
    "    reader = csv.reader(f)\n",
    "    data = list(reader)\n",
    "\n",
    "data = data[1:]\n",
    "data = [a[1:] for a in data]"
   ]
  },
  {
   "cell_type": "code",
   "execution_count": 3,
   "metadata": {
    "tags": []
   },
   "outputs": [
    {
     "output_type": "stream",
     "name": "stdout",
     "text": "(60000, 28, 28, 1)\n(60000, 28, 28, 1)\n"
    }
   ],
   "source": [
    "xs = np.array(data).reshape((60000, 28, 28, 1)).astype(int)/255\n",
    "ys = xs\n",
    "\n",
    "print(xs.shape)\n",
    "print(ys.shape)"
   ]
  },
  {
   "cell_type": "code",
   "execution_count": null,
   "metadata": {},
   "outputs": [],
   "source": [
    "import pickle\n",
    "\n",
    "with open('./xs','wb') as f: pickle.dump(xs, f)\n",
    "with open('./ys','wb') as f: pickle.dump(ys, f)"
   ]
  },
  {
   "cell_type": "code",
   "execution_count": null,
   "metadata": {
    "tags": []
   },
   "outputs": [],
   "source": [
    "l = tf.keras.layers\n",
    "\n",
    "model = tf.keras.models.Sequential([\n",
    "    l.Conv2D(filters=4, kernel_size=3, padding='valid', input_shape=(28, 28, 1)),\n",
    "    l.Conv2D(filters=2, kernel_size=3, padding='valid'),\n",
    "    l.Conv2D(filters=1, kernel_size=3, padding='valid'),\n",
    "    l.Conv2D(filters=1, kernel_size=3, padding='valid'),\n",
    "\n",
    "    l.Flatten(),\n",
    "\n",
    "    l.Dense(100, activation='relu'),\n",
    "    l.Dropout(0.3),\n",
    "\n",
    "\n",
    "    l.Dense(2, activation='tanh'),\n",
    "\n",
    "\n",
    "    l.Dense(100, activation='relu'),\n",
    "    l.Dropout(0.3),\n",
    "\n",
    "    l.Dense(20*20*4, activation='relu'),\n",
    "    l.Reshape((20, 20, 4)),\n",
    "\n",
    "    l.Conv2DTranspose(filters=4, kernel_size=3, padding='valid'),\n",
    "    l.Conv2DTranspose(filters=2, kernel_size=3, padding='valid'),\n",
    "    l.Conv2DTranspose(filters=1, kernel_size=3, padding='valid'),\n",
    "    l.Conv2DTranspose(filters=1, kernel_size=3, padding='valid')\n",
    "])\n",
    "\n",
    "model.summary()\n",
    "\n",
    "model.compile(optimizer='adam', loss='mse')"
   ]
  },
  {
   "cell_type": "code",
   "execution_count": null,
   "metadata": {
    "tags": []
   },
   "outputs": [],
   "source": [
    "model.summary()"
   ]
  },
  {
   "cell_type": "code",
   "execution_count": null,
   "metadata": {
    "tags": []
   },
   "outputs": [],
   "source": [
    "plt.imshow(xs[1])\n",
    "plt.show()\n",
    "\n",
    "x = np.array([xs[1]])\n",
    "plt.imshow(model.predict(x)[0])\n",
    "plt.show()"
   ]
  },
  {
   "cell_type": "code",
   "execution_count": null,
   "metadata": {
    "tags": []
   },
   "outputs": [],
   "source": [
    "model.fit(xs, ys)"
   ]
  },
  {
   "cell_type": "code",
   "execution_count": null,
   "metadata": {},
   "outputs": [],
   "source": [
    "model.save('./model.h5')"
   ]
  },
  {
   "cell_type": "code",
   "execution_count": 4,
   "metadata": {},
   "outputs": [],
   "source": [
    "model = tf.keras.models.load_model('./model.h5')"
   ]
  },
  {
   "cell_type": "code",
   "execution_count": 5,
   "metadata": {
    "tags": []
   },
   "outputs": [
    {
     "output_type": "stream",
     "name": "stdout",
     "text": "Model: \"sequential\"\n_________________________________________________________________\nLayer (type)                 Output Shape              Param #   \n=================================================================\nconv2d (Conv2D)              (None, 26, 26, 4)         40        \n_________________________________________________________________\nconv2d_1 (Conv2D)            (None, 24, 24, 2)         74        \n_________________________________________________________________\nconv2d_2 (Conv2D)            (None, 22, 22, 1)         19        \n_________________________________________________________________\nconv2d_3 (Conv2D)            (None, 20, 20, 1)         10        \n_________________________________________________________________\nflatten (Flatten)            (None, 400)               0         \n_________________________________________________________________\ndense (Dense)                (None, 100)               40100     \n_________________________________________________________________\ndropout (Dropout)            (None, 100)               0         \n_________________________________________________________________\ndense_1 (Dense)              (None, 2)                 202       \n=================================================================\nTotal params: 40,445\nTrainable params: 40,445\nNon-trainable params: 0\n_________________________________________________________________\n"
    }
   ],
   "source": [
    "l = tf.keras.layers\n",
    "\n",
    "encoder = tf.keras.models.Sequential([\n",
    "    l.Conv2D(filters=4, kernel_size=3, padding='valid', input_shape=(28, 28, 1)),\n",
    "    l.Conv2D(filters=2, kernel_size=3, padding='valid'),\n",
    "    l.Conv2D(filters=1, kernel_size=3, padding='valid'),\n",
    "    l.Conv2D(filters=1, kernel_size=3, padding='valid'),\n",
    "\n",
    "    l.Flatten(),\n",
    "\n",
    "    l.Dense(100, activation='relu'),\n",
    "    l.Dropout(0.3),\n",
    "\n",
    "\n",
    "    l.Dense(2, activation='tanh')\n",
    "])\n",
    "\n",
    "encoder.summary()\n",
    "\n",
    "for i in range(8):\n",
    "    encoder.layers[i].set_weights(model.layers[i].get_weights())"
   ]
  },
  {
   "cell_type": "code",
   "execution_count": null,
   "metadata": {
    "tags": []
   },
   "outputs": [],
   "source": [
    "out = encoder.predict(xs[:500]).reshape(2, 500)\n",
    "\n",
    "plt.scatter(out[0],out[1])\n",
    "plt.show()"
   ]
  },
  {
   "cell_type": "code",
   "execution_count": 6,
   "metadata": {
    "tags": []
   },
   "outputs": [
    {
     "output_type": "stream",
     "name": "stdout",
     "text": "Model: \"sequential_1\"\n_________________________________________________________________\nLayer (type)                 Output Shape              Param #   \n=================================================================\ndense_2 (Dense)              (None, 100)               300       \n_________________________________________________________________\ndropout_1 (Dropout)          (None, 100)               0         \n_________________________________________________________________\ndense_3 (Dense)              (None, 1600)              161600    \n_________________________________________________________________\nreshape (Reshape)            (None, 20, 20, 4)         0         \n_________________________________________________________________\nconv2d_transpose (Conv2DTran (None, 22, 22, 4)         148       \n_________________________________________________________________\nconv2d_transpose_1 (Conv2DTr (None, 24, 24, 2)         74        \n_________________________________________________________________\nconv2d_transpose_2 (Conv2DTr (None, 26, 26, 1)         19        \n_________________________________________________________________\nconv2d_transpose_3 (Conv2DTr (None, 28, 28, 1)         10        \n=================================================================\nTotal params: 162,151\nTrainable params: 162,151\nNon-trainable params: 0\n_________________________________________________________________\n"
    }
   ],
   "source": [
    "l = tf.keras.layers\n",
    "\n",
    "decoder = tf.keras.models.Sequential([\n",
    "    l.Dense(100, activation='relu', input_shape=(2,)),\n",
    "    l.Dropout(0.3),\n",
    "\n",
    "    l.Dense(20*20*4, activation='relu'),\n",
    "    l.Reshape((20, 20, 4)),\n",
    "\n",
    "    l.Conv2DTranspose(filters=4, kernel_size=3, padding='valid'),\n",
    "    l.Conv2DTranspose(filters=2, kernel_size=3, padding='valid'),\n",
    "    l.Conv2DTranspose(filters=1, kernel_size=3, padding='valid'),\n",
    "    l.Conv2DTranspose(filters=1, kernel_size=3, padding='valid')\n",
    "])\n",
    "\n",
    "decoder.summary()\n",
    "\n",
    "for i in range(8):\n",
    "    decoder.layers[i].set_weights(model.layers[i+8].get_weights())"
   ]
  },
  {
   "cell_type": "code",
   "execution_count": null,
   "metadata": {},
   "outputs": [],
   "source": [
    "out = decoder.predict(np.array([[-1, -0.5]]))[0]\n",
    "\n",
    "plt.imshow(out)\n",
    "plt.show()"
   ]
  },
  {
   "cell_type": "code",
   "execution_count": 7,
   "metadata": {
    "tags": []
   },
   "outputs": [
    {
     "output_type": "stream",
     "name": "stderr",
     "text": "100%|██████████| 1000/1000 [00:56<00:00, 17.75it/s]\n"
    }
   ],
   "source": [
    "from PIL import Image\n",
    "from tqdm import tqdm\n",
    "\n",
    "final_img = Image.new('RGB', (4100, 4100), color='black')\n",
    "\n",
    "\n",
    "for i in tqdm(range(1000)):\n",
    "    # i = int(np.random.random()*60000)\n",
    "\n",
    "    prediction = encoder.predict(np.array([xs[i]]))[0]\n",
    "    prediction = (prediction + 1)/2\n",
    "    prediction = prediction*4000\n",
    "    prediction = np.uint32(prediction)\n",
    "\n",
    "    img = [[[xs[i][y][x],xs[i][y][x],xs[i][y][x]] for x in range(28)] for y in range(28)]\n",
    "    img = np.array(img)\n",
    "    img = img.reshape((28,28,3))\n",
    "    img = np.uint8(255 - img*255)\n",
    "    img = Image.fromarray(img)\n",
    "    img = img.resize((100,100))\n",
    "\n",
    "\n",
    "    final_img.paste(img, (prediction[0],prediction[1]))\n",
    "\n",
    "\n",
    "\n",
    "final_img.save('./using_mnist.jpg')"
   ]
  },
  {
   "cell_type": "code",
   "execution_count": null,
   "metadata": {
    "tags": []
   },
   "outputs": [],
   "source": [
    "from PIL import Image\n",
    "from tqdm import tqdm\n",
    "\n",
    "final_img = Image.new('RGB', (4000, 4000), color='black')\n",
    "\n",
    "\n",
    "for x in tqdm(range(40)):\n",
    "    for y in range(40):\n",
    "        X = np.array([[(x-20)/20,(y-20)/20]])\n",
    "\n",
    "\n",
    "        prediction = decoder.predict(X)[0]\n",
    "        prediction = np.clip(prediction, 0, 1)\n",
    "        # print(prediction)\n",
    "\n",
    "        img = [[[prediction[y][x],prediction[y][x],prediction[y][x]] for x in range(28)] for y in range(28)]\n",
    "        img = np.array(img)\n",
    "        img = img.reshape((28,28,3))\n",
    "        img = np.uint8(255 - img*255)\n",
    "        img = Image.fromarray(img)\n",
    "        img = img.resize((100,100))\n",
    "\n",
    "\n",
    "        final_img.paste(img, (x*100,y*100))\n",
    "\n",
    "\n",
    "\n",
    "final_img.save('./auto_generated.jpg')"
   ]
  },
  {
   "cell_type": "code",
   "execution_count": null,
   "metadata": {
    "tags": []
   },
   "outputs": [],
   "source": [
    "tf.keras.utils.plot_model(model, show_layer_names=False, show_shapes=True, to_file='./model.png')"
   ]
  },
  {
   "cell_type": "code",
   "execution_count": null,
   "metadata": {},
   "outputs": [],
   "source": [
    "tf.keras.utils.model_to_dot(model, show_layer_names=False, show_shapes=True)"
   ]
  },
  {
   "cell_type": "code",
   "execution_count": null,
   "metadata": {},
   "outputs": [],
   "source": [
    "encoder.save('./encoder.h5')\n",
    "decoder.save('./decoder.h5')"
   ]
  },
  {
   "cell_type": "code",
   "execution_count": null,
   "metadata": {},
   "outputs": [],
   "source": []
  },
  {
   "cell_type": "code",
   "execution_count": null,
   "metadata": {
    "tags": []
   },
   "outputs": [],
   "source": [
    "import json\n",
    "import pickle\n",
    "\n",
    "x = xs[:10]\n",
    "\n",
    "with open('./few_x','wb') as f: pickle.dump(x, f)"
   ]
  }
 ]
}